{
  "cells": [
    {
      "cell_type": "markdown",
      "metadata": {
        "id": "Cqc_6OeF9Tt-"
      },
      "source": [
        "Before you turn this problem in, make sure everything runs as expected. First, **restart the kernel** (in the menubar, select Kernel$\\rightarrow$Restart) and then **run all cells** (in the menubar, select Cell$\\rightarrow$Run All).\n",
        "\n",
        "Make sure you fill in any place that says `YOUR CODE HERE` or \"YOUR ANSWER HERE\", as well as your name and collaborators below:"
      ]
    },
    {
      "cell_type": "code",
      "execution_count": null,
      "metadata": {
        "id": "mJCF2ig59TuC"
      },
      "outputs": [],
      "source": [
        "NAME = \"Potemkin Viktor\"\n",
        "COLLABORATORS = \"\""
      ]
    },
    {
      "cell_type": "markdown",
      "metadata": {
        "id": "6XCE0RPn9TuD"
      },
      "source": [
        "---"
      ]
    },
    {
      "cell_type": "code",
      "execution_count": null,
      "metadata": {
        "deletable": false,
        "editable": false,
        "nbgrader": {
          "cell_type": "code",
          "checksum": "faffb78b7d48e753358e7f2b080e58e1",
          "grade": false,
          "grade_id": "cell-d238cbae9896563e",
          "locked": true,
          "schema_version": 3,
          "solution": false,
          "task": false
        },
        "id": "lBoa1yqC9TuE"
      },
      "outputs": [],
      "source": [
        "import matplotlib.pyplot as plt\n",
        "import numpy as np"
      ]
    },
    {
      "cell_type": "markdown",
      "metadata": {
        "deletable": false,
        "editable": false,
        "nbgrader": {
          "cell_type": "markdown",
          "checksum": "73f58e9a62196a742c0e814ace45675a",
          "grade": false,
          "grade_id": "cell-e24f93d1f5c3d8e8",
          "locked": true,
          "schema_version": 3,
          "solution": false,
          "task": false
        },
        "id": "5tlsmr649aqU"
      },
      "source": [
        "# I. Root-finding: Newton iteration"
      ]
    },
    {
      "cell_type": "markdown",
      "metadata": {
        "deletable": false,
        "editable": false,
        "nbgrader": {
          "cell_type": "markdown",
          "checksum": "7cb19c69618ccef2dc5e3de41fc74118",
          "grade": false,
          "grade_id": "cell-dcdac7e559daf63a",
          "locked": true,
          "schema_version": 3,
          "solution": false,
          "task": false
        },
        "id": "4mrV50bs9aqU"
      },
      "source": [
        "Write a function which performs Newton's iteration for a given function  $f(x)$  with known derivative  $f'(x)$. Your function should find the root of  $f(x)$  with a predefined absolute accuracy  $\\epsilon$."
      ]
    },
    {
      "cell_type": "code",
      "execution_count": null,
      "metadata": {
        "deletable": false,
        "nbgrader": {
          "cell_type": "code",
          "checksum": "e97b768e6a3dc7e5496abd0004b542aa",
          "grade": false,
          "grade_id": "cell-e47469fedb8cc24a",
          "locked": false,
          "schema_version": 3,
          "solution": true,
          "task": false
        },
        "id": "lvu2bWPT9TuH"
      },
      "outputs": [],
      "source": [
        "def newton_iteration(f, fder, x0, eps=1e-5, maxiter=100):\n",
        "    \"\"\"Find a root of $f(x) = 0$ via Newton's iteration starting from x0.\n",
        "    \n",
        "    Parameters\n",
        "    ----------\n",
        "    f : callable\n",
        "        The function to find a root of.\n",
        "    fder : callable\n",
        "        The derivative of `f`.\n",
        "    x0 : float\n",
        "        Initial value for the Newton's iteration.\n",
        "    eps : float\n",
        "        The target accuracy. \n",
        "        The iteration stops when the distance between successive iterates is below `eps`.\n",
        "        Default is 1e-5.\n",
        "    maxiter : int\n",
        "        The maximum number of iterations (default is 1000.)\n",
        "        Iterations terminate if the number of iterations exceeds `maxiter`.\n",
        "        This parameter is only needed to avoid infinite loops if iterations wander off.\n",
        "        \n",
        "    Returns\n",
        "    -------\n",
        "    x : float\n",
        "        The estimate for the root.\n",
        "    niter : int\n",
        "        The number of iterations.\n",
        "    \"\"\"\n",
        "    x = x0\n",
        "    for i in range(maxiter):\n",
        "        x_next = x-f(x)/fder(x)\n",
        "        if np.linalg.norm(x-x_next)<eps:\n",
        "            break\n",
        "        x = x_next\n",
        "    return x_next, i\n",
        "        \n",
        "        "
      ]
    },
    {
      "cell_type": "code",
      "execution_count": null,
      "metadata": {
        "deletable": false,
        "editable": false,
        "nbgrader": {
          "cell_type": "code",
          "checksum": "127b1076061cac3a04850b843b2a45a3",
          "grade": true,
          "grade_id": "cell-0c23dfbb8447f5aa",
          "locked": true,
          "points": 5,
          "schema_version": 3,
          "solution": false,
          "task": false
        },
        "id": "kKU9IcKl9TuI"
      },
      "outputs": [],
      "source": [
        "from numpy.testing import assert_allclose\n",
        "\n",
        "xx, nit = newton_iteration(lambda x: x**2 - 1, lambda x: 2.*x, x0=4)\n",
        "assert_allclose(xx, 1.0, atol=1e-5)\n",
        "assert nit < 10\n",
        "\n",
        "xx, nit = newton_iteration(lambda x: x**2 - 1, lambda x: 2.*x, x0=-4)\n",
        "assert_allclose(xx, -1.0, atol=1e-5)\n",
        "assert nit < 10\n",
        "\n",
        "\n",
        "from math import log, exp\n",
        "\n",
        "xx, nit = newton_iteration(lambda x: exp(x)-2, lambda x: exp(x), x0=4, eps=1e-10)\n",
        "assert_allclose(xx, log(2), atol=1e-10)"
      ]
    },
    {
      "cell_type": "markdown",
      "metadata": {
        "deletable": false,
        "editable": false,
        "nbgrader": {
          "cell_type": "markdown",
          "checksum": "d02ee88a678f2ac8d61e49081dde6741",
          "grade": false,
          "grade_id": "cell-f588bf8c5619986c",
          "locked": true,
          "schema_version": 3,
          "solution": false,
          "task": false
        },
        "id": "uSJs3cdw9aqW"
      },
      "source": [
        "# II. Multiple roots. Modified Newton iteration.\n",
        "\n",
        "Consider a function which has a multiple root (for instance, $f(x) = (x^2 - 1)^2$). Implement the modified Newton iteration,\n",
        "\n",
        "$$\n",
        "x_{n+1} = x_{n} - m \\frac{f(x_n)}{f'(x_n)}\n",
        "$$\n",
        "\n",
        "where $m$ is a parameter."
      ]
    },
    {
      "cell_type": "code",
      "execution_count": null,
      "metadata": {
        "deletable": false,
        "nbgrader": {
          "cell_type": "code",
          "checksum": "585d03c9ede970d8b84d11324180b5ab",
          "grade": false,
          "grade_id": "cell-2f641d195eae18f0",
          "locked": false,
          "schema_version": 3,
          "solution": true,
          "task": false
        },
        "id": "tp9QiXiz9TuL"
      },
      "outputs": [],
      "source": [
        "def mod_newton(f, fder, x0, m, eps=1e-5, maxiter=100):\n",
        "    r\"\"\"Find a root of $f(x) = 0$ via Newton's iteration starting from x0.\n",
        "    \n",
        "    Parameters\n",
        "    ----------\n",
        "    f : callable\n",
        "        The function to find a root of.\n",
        "    fder : callable\n",
        "        The derivative of `f`.\n",
        "    x0 : float\n",
        "        Initial value for the Newton's iteration.\n",
        "    m : int\n",
        "        The iteration is $x_{n+1} = x_n - m f(x_n) / f'(x_n)`\n",
        "    eps : float\n",
        "        The target accuracy. \n",
        "        The iteration stops when the distance between successive iterates is below `eps`.\n",
        "        Default is 1e-5.\n",
        "    maxiter : int\n",
        "        The maximum number of iterations (default is 1000.)\n",
        "        Iterations terminate if the number of iterations exceeds `maxiter`.\n",
        "        This parameter is only needed to avoid infinite loops if iterations wander off.\n",
        "        \n",
        "    Returns\n",
        "    -------\n",
        "    x : float\n",
        "        The estimate for the root.\n",
        "    niter : int\n",
        "        The number of iterations.\n",
        "    \"\"\"\n",
        "    x = x0\n",
        "    for i in range(maxiter):\n",
        "        x_next = x-m*f(x)/fder(x)\n",
        "        if np.linalg.norm(x-x_next)<eps:\n",
        "            break\n",
        "        x = x_next\n",
        "    return x_next, i"
      ]
    },
    {
      "cell_type": "code",
      "execution_count": null,
      "metadata": {
        "deletable": false,
        "editable": false,
        "nbgrader": {
          "cell_type": "code",
          "checksum": "60aa61993eb13e346d46721bf2f4e0db",
          "grade": true,
          "grade_id": "cell-d2c8d42721e39f15",
          "locked": true,
          "points": 5,
          "schema_version": 3,
          "solution": false,
          "task": false
        },
        "id": "vTIDnmpg9TuM"
      },
      "outputs": [],
      "source": [
        "for m in [1, 2, 3, 4, 5, 6]:\n",
        "    xx, nit = mod_newton(lambda x: (x**2 - 1)**4,\n",
        "                         lambda x: 4*(x**2 - 1)**3 * 2 * x,\n",
        "                         x0=2, m=m, maxiter=10000, eps=1e-9)\n",
        "    assert_allclose(xx, 1.0, atol=1e-8)\n",
        "    "
      ]
    },
    {
      "cell_type": "markdown",
      "metadata": {
        "deletable": false,
        "editable": false,
        "nbgrader": {
          "cell_type": "markdown",
          "checksum": "893e2eda05768cf07d238acdfb08e0a1",
          "grade": false,
          "grade_id": "cell-6cfe913974c653c8",
          "locked": true,
          "schema_version": 3,
          "solution": false,
          "task": false
        },
        "id": "PrucUvsl9aqY"
      },
      "source": [
        "(Extra task, not graded)\n",
        "\n",
        "Use the modified Newton's iteration for $f(x) = (x^2 - 1)^2$ with $m= 1, 2, 3, 4, 5, 6$. Use a fixed initial guess $x_0$ and a fixed tolerance $\\epsilon$. How many iteration is needed for convergence? Does the variation of the number of iterations with $m$ support\n",
        "the expectation that the convergence is quadratic for $m$ equal to the multiplicity of the root, and linear otherwise?"
      ]
    },
    {
      "cell_type": "markdown",
      "metadata": {
        "deletable": false,
        "editable": false,
        "nbgrader": {
          "cell_type": "markdown",
          "checksum": "325f9fbffa5acefb7e01e03356c1d72a",
          "grade": false,
          "grade_id": "cell-8e82e12fb5659e3b",
          "locked": true,
          "points": 5,
          "schema_version": 3,
          "solution": false,
          "task": true
        },
        "id": "ruZiWFm89TuM"
      },
      "source": [
        "### Your code here."
      ]
    },
    {
      "cell_type": "markdown",
      "metadata": {
        "id": "e8RFSaeW9aqZ"
      },
      "source": [
        "# III. Newton's fractal\n",
        "\n",
        "(Extra task, not graded)\n",
        "\n",
        "Consider the equation\n",
        "\n",
        "$$\n",
        "x^3=1\n",
        "$$ \n",
        " \n",
        "It has three solutions in the complex plane,  $x_k = \\exp(i 2\\pi k / 3)$ ,  $k = 0,1,2$.\n",
        "\n",
        "The Newton's iterations converge to one of these solutions, depending on the starting point in the complex plane (to converge to a complex-valued solution, the iteration needs a complex-valued starting point).\n",
        "\n",
        "Plot the _basins of attraction_ of these roots in the complex plane of $x$  (i.e., on the plane  $Re(x)$--$Im(x)$ ). To this end, make a series of calculations, varying the initial conditions on a grid of points. Color the grid in three colors, according to the root to which the iterations have converged.\n"
      ]
    },
    {
      "cell_type": "code",
      "execution_count": null,
      "metadata": {
        "id": "PigQkp7K9TuO"
      },
      "outputs": [],
      "source": [
        ""
      ]
    }
  ],
  "metadata": {
    "kernelspec": {
      "display_name": "Python 3",
      "language": "python",
      "name": "python3"
    },
    "language_info": {
      "codemirror_mode": {
        "name": "ipython",
        "version": 3
      },
      "file_extension": ".py",
      "mimetype": "text/x-python",
      "name": "python",
      "nbconvert_exporter": "python",
      "pygments_lexer": "ipython3",
      "version": "3.8.3"
    },
    "colab": {
      "name": "newton_iter_vapotemkin.ipynb",
      "provenance": []
    }
  },
  "nbformat": 4,
  "nbformat_minor": 0
}