{
  "cells": [
    {
      "cell_type": "markdown",
      "metadata": {
        "id": "QpWvhrTj4iaK"
      },
      "source": [
        "Before you turn this problem in, make sure everything runs as expected. First, **restart the kernel** (in the menubar, select Kernel$\\rightarrow$Restart) and then **run all cells** (in the menubar, select Cell$\\rightarrow$Run All).\n",
        "\n",
        "Make sure you fill in any place that says `YOUR CODE HERE` or \"YOUR ANSWER HERE\", as well as your name and collaborators below:"
      ]
    },
    {
      "cell_type": "code",
      "execution_count": null,
      "metadata": {
        "id": "IQNvCXiA4iaO"
      },
      "outputs": [],
      "source": [
        "NAME = \"Потемкин Виктор\"\n",
        "COLLABORATORS = \"\""
      ]
    },
    {
      "cell_type": "markdown",
      "metadata": {
        "id": "xDXi7hBD4iaP"
      },
      "source": [
        "---"
      ]
    },
    {
      "cell_type": "markdown",
      "metadata": {
        "deletable": false,
        "editable": false,
        "nbgrader": {
          "checksum": "74073e87d382d0355e85faeba52e8453",
          "grade": false,
          "grade_id": "cell-eb39a9ff603592f6",
          "locked": true,
          "schema_version": 3,
          "solution": false
        },
        "id": "Tqff1GzA4iaP"
      },
      "source": [
        "Write a function which solves a quadratic equation, $x^2 + b x + c = 0$. Your function must receive two values for coefficients and return two real or complex roots. Always return two roots, even if the equation has a single double root. "
      ]
    },
    {
      "cell_type": "code",
      "execution_count": 1,
      "metadata": {
        "deletable": false,
        "nbgrader": {
          "checksum": "0fa5266a12dc9eb88c601dc60f353329",
          "grade": false,
          "grade_id": "cell-2032efc64a327acc",
          "locked": false,
          "schema_version": 3,
          "solution": true
        },
        "id": "48o57ReB4iaQ"
      },
      "outputs": [],
      "source": [
        "from math import sqrt\n",
        "from cmath import sqrt as c_sqrt\n",
        "\n",
        "def solve_quad(b, c):\n",
        "    '''Solve the quadratic equation `x**2 + b*x + c == 0`. \n",
        "    \n",
        "    Parameters\n",
        "    ----------\n",
        "    b, c : float\n",
        "       Coefficients\n",
        "       \n",
        "    Returns\n",
        "    -------\n",
        "    x1, x2 : float or complex\n",
        "        Roots.\n",
        "    '''\n",
        "    # YOUR CODE HERE\n",
        "    D = (b**2) - 4.0 * c\n",
        "    if 1 + c == b:\n",
        "        return (-1.0), (-c)\n",
        "    elif 1 + b + c == 0:\n",
        "        return (1.0), (c)\n",
        "    elif b == 0 and c == 0: \n",
        "        return 0, 0\n",
        "    elif D**0.5 == b or D**0.5 == -b: \n",
        "        x1 = - b + c/b + c**2 / b**3 \n",
        "        x2 = - (c/b + (c**2 / b**3))\n",
        "        return x1, x2\n",
        "    else:\n",
        "        if D>=0: \n",
        "          #Formula Vieta\n",
        "            x1 = - (2 * c) / (sqrt(D) + b)\n",
        "            x2 = c / x2 \n",
        "            return x1, x2\n",
        "        elif D<0:\n",
        "            x1 = - (2*c) / (c_sqrt(D) + b) \n",
        "            x2 = (2*c) / (c_sqrt(D) - b)\n",
        "            return x1, x2"
      ]
    },
    {
      "cell_type": "code",
      "execution_count": 5,
      "metadata": {
        "deletable": false,
        "editable": false,
        "nbgrader": {
          "checksum": "fc3ec2ce4bdeec0ab534f8e40004f6cb",
          "grade": true,
          "grade_id": "cell-89cf7badb387b0e0",
          "locked": true,
          "points": 5,
          "schema_version": 3,
          "solution": false
        },
        "colab": {
          "base_uri": "https://localhost:8080/"
        },
        "id": "qb60EBlz4iaQ",
        "outputId": "1ba47716-3f57-4eb4-8699-18a50e041893"
      },
      "outputs": [
        {
          "output_type": "stream",
          "name": "stdout",
          "text": [
            "None\n",
            "None\n",
            "None\n",
            "None\n",
            "None\n"
          ]
        }
      ],
      "source": [
        "#\n",
        "# Your implementation should pass tests in this cell.\n",
        "#\n",
        "# Do not remove or alter this cell. You may run it, but do not remove or alter it.\n",
        "# Your changes to this cell will be ignored on grading.\n",
        "# There will be additional tests.\n",
        "#\n",
        "from numpy.testing import assert_allclose\n",
        "from numpy import allclose\n",
        "variants = [{'b': 4.0, 'c': 3.0},\n",
        "            {'b': 2.0, 'c': 1.0},\n",
        "            {'b': 0.5, 'c': 4.0},\n",
        "            {'b': 1e10, 'c': 3.0},\n",
        "            {'b': -1e10, 'c': 3.0},\n",
        "           ]\n",
        "\n",
        "for var in variants:\n",
        "    x1, x2 = solve_quad(**var)\n",
        "    print(assert_allclose(x1*x2, var['c'], rtol=1e-15))"
      ]
    },
    {
      "cell_type": "code",
      "execution_count": 6,
      "metadata": {
        "deletable": false,
        "editable": false,
        "nbgrader": {
          "checksum": "5b5fc0da6dc8c015736ff9e557a54fd9",
          "grade": true,
          "grade_id": "cell-0970e4298cb77486",
          "locked": true,
          "points": 5,
          "schema_version": 3,
          "solution": false,
          "task": false
        },
        "colab": {
          "base_uri": "https://localhost:8080/"
        },
        "id": "_case90p4iaR",
        "outputId": "626a66f1-6aea-42e7-81d8-ee6dae031a10"
      },
      "outputs": [
        {
          "output_type": "stream",
          "name": "stdout",
          "text": [
            "True\n",
            "True\n",
            "True\n",
            "True\n",
            "True\n"
          ]
        }
      ],
      "source": [
        "variants = [{'b': 4.0, 'c': 3.0},\n",
        "            {'b': 2.0, 'c': 1.0},\n",
        "            {'b': 0.5, 'c': 4.0},\n",
        "            {'b': 1e10, 'c': 3.0},\n",
        "            {'b': -1e10, 'c': 3.0},\n",
        "           ]\n",
        "\n",
        "for var in variants:\n",
        "    x1, x2 = solve_quad(**var)\n",
        "    print(allclose(x1*x2, var['c']))"
      ]
    }
  ],
  "metadata": {
    "celltoolbar": "Create Assignment",
    "kernelspec": {
      "display_name": "Python 3",
      "language": "python",
      "name": "python3"
    },
    "language_info": {
      "codemirror_mode": {
        "name": "ipython",
        "version": 3
      },
      "file_extension": ".py",
      "mimetype": "text/x-python",
      "name": "python",
      "nbconvert_exporter": "python",
      "pygments_lexer": "ipython3",
      "version": "3.8.10"
    },
    "colab": {
      "name": "quadratic_vapotemkin.ipynb",
      "provenance": []
    }
  },
  "nbformat": 4,
  "nbformat_minor": 0
}