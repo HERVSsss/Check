{
 "cells": [
  {
   "cell_type": "code",
   "execution_count": 5,
   "id": "c1af4116",
   "metadata": {},
   "outputs": [],
   "source": [
    "import numpy as np\n",
    "import sympy as sym\n",
    "from sympy.abc import x, a\n",
    "import matplotlib.pyplot as plt"
   ]
  },
  {
   "cell_type": "code",
   "execution_count": 6,
   "id": "d1fb2169",
   "metadata": {},
   "outputs": [],
   "source": [
    "def forward_recur(a, n):\n",
    "    if n == 0:\n",
    "        return float(sym.integrate(1/(x+a),(x,0,1)))\n",
    "    return 1/n - a*forward_recur(a, n-1)"
   ]
  },
  {
   "cell_type": "code",
   "execution_count": 7,
   "id": "22ac7b80",
   "metadata": {},
   "outputs": [],
   "source": [
    "def backward_recur(a, n):\n",
    "    if n == 50:\n",
    "        return 0\n",
    "    else:\n",
    "        return (1/(a*(n+1)) - 1/a*backward_recur(a, n+1))\n",
    "    "
   ]
  },
  {
   "cell_type": "code",
   "execution_count": 8,
   "id": "27d2d038",
   "metadata": {},
   "outputs": [
    {
     "name": "stdout",
     "output_type": "stream",
     "text": [
      "Вычисления I25 при a = 10\n",
      "Вычисления sympy: 0.0035083534096819772\n",
      "Прямая рекурсия: -82212552.62629618\n",
      "Обратная рекурсия: 0.0035083534096819772\n",
      "\n",
      "Вычисления I25 при a = 0.1\n",
      "Вычисления sympy: 0.036226970909116835\n",
      "Прямая рекурсия: 0.03622697090911682\n",
      "Обратная рекурсия: 1.814821271954307e+23\n",
      "\n"
     ]
    }
   ],
   "source": [
    "vars = (10, 0.1) \n",
    "for a in vars:\n",
    "    sym_res = float(sym.integrate(x**25/(x+a),(x,0,1)))\n",
    "    print('Вычисления I25 при a =', a)\n",
    "    print('Вычисления sympy:', sym_res)\n",
    "    print('Прямая рекурсия:', forward_recur(a, 25))\n",
    "    print('Обратная рекурсия:', backward_recur(a, 25))\n",
    "    print('')"
   ]
  },
  {
   "cell_type": "code",
   "execution_count": null,
   "id": "652d87cd",
   "metadata": {},
   "outputs": [],
   "source": []
  },
  {
   "cell_type": "code",
   "execution_count": 9,
   "id": "ba387e24",
   "metadata": {},
   "outputs": [],
   "source": [
    "from scipy.constants import G \n",
    "\n",
    "def F(m1,m2,r):\n",
    "    return G*m1*m2/r**2\n",
    "\n",
    "m1=40e4\n",
    "m2=30e4\n",
    "r=3.2\n",
    "e1=0.05e4\n",
    "e2=0.1e4\n",
    "e3=0.01"
   ]
  },
  {
   "cell_type": "code",
   "execution_count": 10,
   "id": "4000ea1a",
   "metadata": {},
   "outputs": [
    {
     "data": {
      "text/plain": [
       "0.7821445312499998"
      ]
     },
     "execution_count": 10,
     "metadata": {},
     "output_type": "execute_result"
    }
   ],
   "source": [
    "f = F(m1,m2,r)\n",
    "f"
   ]
  },
  {
   "cell_type": "code",
   "execution_count": 11,
   "id": "edd0fe9a",
   "metadata": {},
   "outputs": [
    {
     "data": {
      "text/plain": [
       "0.005625795008537251"
      ]
     },
     "execution_count": 11,
     "metadata": {},
     "output_type": "execute_result"
    }
   ],
   "source": [
    "import math\n",
    "\n",
    "s=math.sqrt((G*m2/r**2*e1)**2+(G*m1/r**2*e2)**2+(-2*G*m1*m2/r**3*e3)**2)\n",
    "s"
   ]
  },
  {
   "cell_type": "code",
   "execution_count": 12,
   "id": "46ff2208",
   "metadata": {},
   "outputs": [
    {
     "data": {
      "text/plain": [
       "(100000,)"
      ]
     },
     "execution_count": 12,
     "metadata": {},
     "output_type": "execute_result"
    }
   ],
   "source": [
    "from numpy.random import default_rng\n",
    "\n",
    "rng = default_rng(12345)\n",
    "\n",
    "m1_rand = rng.normal(m1, e1, 100000)\n",
    "m2_rand = rng.normal(m2, e2, 100000)\n",
    "r_rand = rng.normal(r, e3, 100000)\n",
    "\n",
    "f_rand=F(m1_rand, m2_rand, r_rand)\n",
    "f_rand.shape"
   ]
  },
  {
   "cell_type": "code",
   "execution_count": 13,
   "id": "465918bb",
   "metadata": {},
   "outputs": [
    {
     "data": {
      "text/plain": [
       "(array([1.7000e+01, 4.2500e+02, 3.5970e+03, 1.4483e+04, 2.9431e+04,\n",
       "        3.0713e+04, 1.6069e+04, 4.5600e+03, 6.4900e+02, 5.6000e+01]),\n",
       " array([0.75809593, 0.76284378, 0.76759162, 0.77233947, 0.77708732,\n",
       "        0.78183516, 0.78658301, 0.79133085, 0.7960787 , 0.80082654,\n",
       "        0.80557439]),\n",
       " <BarContainer object of 10 artists>)"
      ]
     },
     "execution_count": 13,
     "metadata": {},
     "output_type": "execute_result"
    },
    {
     "data": {
      "image/png": "[encoded data removed]",
      "text/plain": [
       "<Figure size 432x288 with 1 Axes>"
      ]
     },
     "metadata": {
      "needs_background": "light"
     },
     "output_type": "display_data"
    }
   ],
   "source": [
    "plt.hist(f_rand)"
   ]
  },
  {
   "cell_type": "code",
   "execution_count": 14,
   "id": "b3733df1",
   "metadata": {},
   "outputs": [
    {
     "data": {
      "image/png": "[encoded data removed]",
      "text/plain": [
       "<Figure size 432x288 with 1 Axes>"
      ]
     },
     "metadata": {
      "needs_background": "light"
     },
     "output_type": "display_data"
    }
   ],
   "source": [
    "from scipy.stats import norm\n",
    "\n",
    "x_axis = np.arange(f-0.05, f+0.05, 0.001)\n",
    "plt.plot(x_axis, norm.pdf(x_axis,f,s))\n",
    "plt.show()"
   ]
  },
  {
   "cell_type": "code",
   "execution_count": 15,
   "id": "0ef8df04",
   "metadata": {},
   "outputs": [],
   "source": [
    "m1=40e4\n",
    "m2=30e4\n",
    "r=3.2\n",
    "e1=2e4\n",
    "e2=10e4\n",
    "e3=1. "
   ]
  },
  {
   "cell_type": "code",
   "execution_count": 16,
   "id": "67011cd2",
   "metadata": {},
   "outputs": [
    {
     "data": {
      "text/plain": [
       "0.7821445312499998"
      ]
     },
     "execution_count": 16,
     "metadata": {},
     "output_type": "execute_result"
    }
   ],
   "source": [
    "f = F(m1,m2,r)\n",
    "f "
   ]
  },
  {
   "cell_type": "code",
   "execution_count": 17,
   "id": "d405dbd0",
   "metadata": {},
   "outputs": [
    {
     "data": {
      "text/plain": [
       "0.5553975829452449"
      ]
     },
     "execution_count": 17,
     "metadata": {},
     "output_type": "execute_result"
    }
   ],
   "source": [
    "s=math.sqrt((G*m2/r**2*e1)**2+(G*m1/r**2*e2)**2+(-2*G*m1*m2/r**3*e3)**2)\n",
    "s"
   ]
  },
  {
   "cell_type": "code",
   "execution_count": 18,
   "id": "ff2822bf",
   "metadata": {},
   "outputs": [
    {
     "data": {
      "text/plain": [
       "(100000,)"
      ]
     },
     "execution_count": 18,
     "metadata": {},
     "output_type": "execute_result"
    }
   ],
   "source": [
    "m1_rand = rng.normal(m1, e1, 100000)\n",
    "m2_rand = rng.normal(m2, e2, 100000)\n",
    "r_rand = rng.normal(r, e3, 100000)\n",
    "\n",
    "f_rand=F(m1_rand, m2_rand, r_rand)\n",
    "f_rand.shape"
   ]
  },
  {
   "cell_type": "code",
   "execution_count": 19,
   "id": "c2987a53",
   "metadata": {},
   "outputs": [
    {
     "data": {
      "text/plain": [
       "(array([9.9998e+04, 1.0000e+00, 0.0000e+00, 0.0000e+00, 0.0000e+00,\n",
       "        0.0000e+00, 0.0000e+00, 0.0000e+00, 0.0000e+00, 1.0000e+00]),\n",
       " array([-1.15959059e+00,  7.27821015e+04,  1.45565363e+05,  2.18348624e+05,\n",
       "         2.91131885e+05,  3.63915146e+05,  4.36698407e+05,  5.09481668e+05,\n",
       "         5.82264929e+05,  6.55048190e+05,  7.27831451e+05]),\n",
       " <BarContainer object of 10 artists>)"
      ]
     },
     "execution_count": 19,
     "metadata": {},
     "output_type": "execute_result"
    },
    {
     "data": {
      "image/png": "[encoded data removed]",
      "text/plain": [
       "<Figure size 432x288 with 1 Axes>"
      ]
     },
     "metadata": {
      "needs_background": "light"
     },
     "output_type": "display_data"
    }
   ],
   "source": [
    "plt.hist(f_rand)"
   ]
  },
  {
   "cell_type": "code",
   "execution_count": 20,
   "id": "2eb50019",
   "metadata": {},
   "outputs": [
    {
     "data": {
      "image/png": "[encoded data removed]",
      "text/plain": [
       "<Figure size 432x288 with 1 Axes>"
      ]
     },
     "metadata": {
      "needs_background": "light"
     },
     "output_type": "display_data"
    }
   ],
   "source": [
    "x_axis = np.arange(f-5, f+5, 0.001)\n",
    "plt.plot(x_axis, norm.pdf(x_axis,f,s)) # генерируем норм распределение с вычисленными f, s\n",
    "plt.show()"
   ]
  },
  {
   "cell_type": "code",
   "execution_count": null,
   "id": "18a8f07e",
   "metadata": {},
   "outputs": [],
   "source": []
  },
  {
   "cell_type": "code",
   "execution_count": null,
   "id": "a66aede9",
   "metadata": {},
   "outputs": [],
   "source": []
  }
 ],
 "metadata": {
  "kernelspec": {
   "display_name": "Python 3",
   "language": "python",
   "name": "python3"
  },
  "language_info": {
   "codemirror_mode": {
    "name": "ipython",
    "version": 3
   },
   "file_extension": ".py",
   "mimetype": "text/x-python",
   "name": "python",
   "nbconvert_exporter": "python",
   "pygments_lexer": "ipython3",
   "version": "3.8.8"
  }
 },
 "nbformat": 4,
 "nbformat_minor": 5
}
